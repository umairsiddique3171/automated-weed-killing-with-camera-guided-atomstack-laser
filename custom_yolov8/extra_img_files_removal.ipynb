{
 "cells": [
  {
   "cell_type": "markdown",
   "id": "210f368b",
   "metadata": {},
   "source": [
    "#### Weed Removal (removing extra imgs for which labels were not given)"
   ]
  },
  {
   "cell_type": "code",
   "execution_count": 1,
   "id": "cb06093c",
   "metadata": {},
   "outputs": [],
   "source": [
    "import os "
   ]
  },
  {
   "cell_type": "code",
   "execution_count": 2,
   "id": "2386dd4c",
   "metadata": {},
   "outputs": [],
   "source": [
    "img_names = []\n",
    "for img in os.listdir(r\"C:\\Users\\US593\\OneDrive\\Desktop\\data\\images\\train\"):\n",
    "    img_names.append(img.split(\".\")[0])"
   ]
  },
  {
   "cell_type": "code",
   "execution_count": 4,
   "id": "065c3d6c",
   "metadata": {},
   "outputs": [],
   "source": [
    "label_names = []\n",
    "for label in os.listdir(r\"C:\\Users\\US593\\OneDrive\\Desktop\\data\\labels\\train\"):\n",
    "    label_names.append(label.split(\".\")[0])"
   ]
  },
  {
   "cell_type": "code",
   "execution_count": 5,
   "id": "fb8d5abb",
   "metadata": {},
   "outputs": [
    {
     "data": {
      "text/plain": [
       "191"
      ]
     },
     "execution_count": 5,
     "metadata": {},
     "output_type": "execute_result"
    }
   ],
   "source": [
    "len(img_names)"
   ]
  },
  {
   "cell_type": "code",
   "execution_count": 6,
   "id": "c567bc50",
   "metadata": {},
   "outputs": [
    {
     "data": {
      "text/plain": [
       "183"
      ]
     },
     "execution_count": 6,
     "metadata": {},
     "output_type": "execute_result"
    }
   ],
   "source": [
    "len(label_names)"
   ]
  },
  {
   "cell_type": "code",
   "execution_count": 8,
   "id": "33f31d2b",
   "metadata": {},
   "outputs": [],
   "source": [
    "extra_imgs = []"
   ]
  },
  {
   "cell_type": "code",
   "execution_count": 9,
   "id": "0cabb0d6",
   "metadata": {},
   "outputs": [],
   "source": [
    "for img in img_names:\n",
    "    if img not in label_names:\n",
    "        extra_imgs.append(img)"
   ]
  },
  {
   "cell_type": "code",
   "execution_count": 10,
   "id": "889aaf9c",
   "metadata": {},
   "outputs": [
    {
     "data": {
      "text/plain": [
       "['WIN_20240506_19_04_05_Pro',\n",
       " 'WIN_20240506_19_04_09_Pro',\n",
       " 'WIN_20240506_19_04_13_Pro',\n",
       " 'WIN_20240506_19_04_15_Pro',\n",
       " 'WIN_20240506_19_04_19_Pro',\n",
       " 'WIN_20240506_19_04_22_Pro',\n",
       " 'WIN_20240506_19_04_24_Pro',\n",
       " 'WIN_20240506_19_04_28_Pro']"
      ]
     },
     "execution_count": 10,
     "metadata": {},
     "output_type": "execute_result"
    }
   ],
   "source": [
    "extra_imgs"
   ]
  },
  {
   "cell_type": "code",
   "execution_count": 11,
   "id": "e1a142b2",
   "metadata": {},
   "outputs": [],
   "source": [
    "path = r\"C:\\Users\\US593\\OneDrive\\Desktop\\data\\images\\train\"\n",
    "for img in os.listdir(path):\n",
    "    if img.split('.')[0] in extra_imgs:\n",
    "        os.remove(os.path.join(path,img))"
   ]
  },
  {
   "cell_type": "code",
   "execution_count": 12,
   "id": "a045ec0c",
   "metadata": {},
   "outputs": [
    {
     "data": {
      "text/plain": [
       "183"
      ]
     },
     "execution_count": 12,
     "metadata": {},
     "output_type": "execute_result"
    }
   ],
   "source": [
    "len(os.listdir(path))"
   ]
  },
  {
   "cell_type": "code",
   "execution_count": null,
   "id": "fd7181dc",
   "metadata": {},
   "outputs": [],
   "source": []
  }
 ],
 "metadata": {
  "kernelspec": {
   "display_name": "Python 3 (ipykernel)",
   "language": "python",
   "name": "python3"
  },
  "language_info": {
   "codemirror_mode": {
    "name": "ipython",
    "version": 3
   },
   "file_extension": ".py",
   "mimetype": "text/x-python",
   "name": "python",
   "nbconvert_exporter": "python",
   "pygments_lexer": "ipython3",
   "version": "3.11.5"
  }
 },
 "nbformat": 4,
 "nbformat_minor": 5
}
